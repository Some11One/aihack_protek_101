{
 "cells": [
  {
   "cell_type": "code",
   "execution_count": 16,
   "metadata": {},
   "outputs": [],
   "source": [
    "import pandas as pd\n",
    "import requests\n",
    "from bs4 import BeautifulSoup\n",
    "from lxml import html\n",
    "import tqdm\n",
    "import time"
   ]
  },
  {
   "cell_type": "code",
   "execution_count": 6,
   "metadata": {},
   "outputs": [],
   "source": [
    "def parse_alexa(website = 'example.ru'):\n",
    "    \n",
    "    '''\n",
    "    \n",
    "    Функция для загрузки статистики об активности веб-сайтов\n",
    "    \n",
    "    param website: имя сайта\n",
    "    \n",
    "    '''\n",
    "    \n",
    "    url = 'https://alexa.com/siteinfo/' + str(website)\n",
    "    headers = {\n",
    "                'User-Agent': 'Mozilla/5.0 (Macintosh; Intel Mac OS X 10.9; rv:45.0) Gecko/20100101 Firefox/45.0'\n",
    "              }\n",
    "    \n",
    "    r = requests.get(url, headers = headers)\n",
    "    \n",
    "    soup = BeautifulSoup(r.text.encode('utf8'), \"lxml\")\n",
    "    if len(soup.findAll('section', {'class': 'note-no-data'})) != 1:\n",
    "        ranks = soup.findAll('div', {'class': 'rank-row'})\n",
    "        \n",
    "        if len(ranks[0].findAll('div')) > 0:\n",
    "            world_rank = ranks[0].findAll('div')[0].findAll('strong')[0].text\n",
    "            world_rank = int(''.join(x for x in world_rank if x.isdigit()))\n",
    "        else:\n",
    "            world_rank = None\n",
    "\n",
    "        if len(ranks[1].findAll('div')) > 0:\n",
    "            country_rank = ranks[1].findAll('div')[0].findAll('strong')[0].text\n",
    "            country_rank = int(''.join(x for x in country_rank if x.isdigit()))\n",
    "        else:\n",
    "            country_rank = None\n",
    "\n",
    "\n",
    "        link_numbers = soup.findAll('div', {'class': 'box1 box1-med3'})\n",
    "        link_numbers = link_numbers[0].findAll('span')[0].text\n",
    "        link_numbers = int(''.join(x for x in link_numbers if x.isdigit()))\n",
    "    else: \n",
    "        country_rank, world_rank, link_numbers = None, None, None\n",
    "    \n",
    "    return world_rank, country_rank, link_numbers"
   ]
  },
  {
   "cell_type": "markdown",
   "metadata": {},
   "source": [
    "----------------------------------"
   ]
  },
  {
   "cell_type": "markdown",
   "metadata": {},
   "source": [
    "# Load data"
   ]
  },
  {
   "cell_type": "code",
   "execution_count": 25,
   "metadata": {},
   "outputs": [
    {
     "data": {
      "text/html": [
       "<div>\n",
       "<style>\n",
       "    .dataframe thead tr:only-child th {\n",
       "        text-align: right;\n",
       "    }\n",
       "\n",
       "    .dataframe thead th {\n",
       "        text-align: left;\n",
       "    }\n",
       "\n",
       "    .dataframe tbody tr th {\n",
       "        vertical-align: top;\n",
       "    }\n",
       "</style>\n",
       "<table border=\"1\" class=\"dataframe\">\n",
       "  <thead>\n",
       "    <tr style=\"text-align: right;\">\n",
       "      <th></th>\n",
       "      <th>name</th>\n",
       "      <th>lat</th>\n",
       "      <th>long</th>\n",
       "      <th>place_id</th>\n",
       "      <th>google_name</th>\n",
       "      <th>google_rating</th>\n",
       "      <th>site</th>\n",
       "      <th>reviews</th>\n",
       "    </tr>\n",
       "  </thead>\n",
       "  <tbody>\n",
       "    <tr>\n",
       "      <th>0</th>\n",
       "      <td>Кемеровская ФФ</td>\n",
       "      <td>NaN</td>\n",
       "      <td>NaN</td>\n",
       "      <td>NaN</td>\n",
       "      <td>NaN</td>\n",
       "      <td>NaN</td>\n",
       "      <td>NaN</td>\n",
       "      <td>NaN</td>\n",
       "    </tr>\n",
       "    <tr>\n",
       "      <th>1</th>\n",
       "      <td>Оболенское ФП АО</td>\n",
       "      <td>55.719404</td>\n",
       "      <td>37.611614</td>\n",
       "      <td>ChIJQ4S7OhE1tUYRsayopXzdjU4</td>\n",
       "      <td>Оболенское, фармацевтическая компания</td>\n",
       "      <td>NaN</td>\n",
       "      <td>http://obolensk.ru/</td>\n",
       "      <td>[]</td>\n",
       "    </tr>\n",
       "    <tr>\n",
       "      <th>2</th>\n",
       "      <td>Софарма АО</td>\n",
       "      <td>55.773166</td>\n",
       "      <td>37.527030</td>\n",
       "      <td>ChIJ-zHoPnZJtUYR8D_m_FLE-Ec</td>\n",
       "      <td>РЛС</td>\n",
       "      <td>4.2</td>\n",
       "      <td>http://www.rlsnet.ru/</td>\n",
       "      <td>[['Проблема с парковкой.', 4, 1485465879], ['С...</td>\n",
       "    </tr>\n",
       "  </tbody>\n",
       "</table>\n",
       "</div>"
      ],
      "text/plain": [
       "               name        lat       long                     place_id  \\\n",
       "0    Кемеровская ФФ        NaN        NaN                          NaN   \n",
       "1  Оболенское ФП АО  55.719404  37.611614  ChIJQ4S7OhE1tUYRsayopXzdjU4   \n",
       "2        Софарма АО  55.773166  37.527030  ChIJ-zHoPnZJtUYR8D_m_FLE-Ec   \n",
       "\n",
       "                             google_name  google_rating  \\\n",
       "0                                    NaN            NaN   \n",
       "1  Оболенское, фармацевтическая компания            NaN   \n",
       "2                                    РЛС            4.2   \n",
       "\n",
       "                    site                                            reviews  \n",
       "0                    NaN                                                NaN  \n",
       "1    http://obolensk.ru/                                                 []  \n",
       "2  http://www.rlsnet.ru/  [['Проблема с парковкой.', 4, 1485465879], ['С...  "
      ]
     },
     "execution_count": 25,
     "metadata": {},
     "output_type": "execute_result"
    }
   ],
   "source": [
    "# фичи из гугла\n",
    "data = pd.read_csv('data/Report_Database_plus_features.csv', encoding='cp1251', index_col = 0)\n",
    "data.head(3)"
   ]
  },
  {
   "cell_type": "code",
   "execution_count": 17,
   "metadata": {},
   "outputs": [
    {
     "name": "stderr",
     "output_type": "stream",
     "text": [
      "100%|████████████████████████████████████████████████████████████████████████████████| 325/325 [12:34<00:00,  2.32s/it]\n"
     ]
    }
   ],
   "source": [
    "# загрузим статистику веб-сайтов \n",
    "for i, row in tqdm.tqdm(data.iterrows(), total = data.shape[0]):\n",
    "    web = row.site\n",
    "    \n",
    "    if pd.isnull(web):\n",
    "        continue\n",
    "        \n",
    "    res = parse_alexa(web.replace('.php', ''))\n",
    "    \n",
    "    if res is not None:\n",
    "        \n",
    "        world_rank, country_rank, link_numbers = res\n",
    "        \n",
    "        data.loc[i, 'world_rank'] = world_rank\n",
    "        data.loc[i, 'country_rank'] = country_rank\n",
    "        data.loc[i, 'link_numbers'] = link_numbers\n",
    "        \n",
    "    time.sleep(0.5)"
   ]
  },
  {
   "cell_type": "markdown",
   "metadata": {},
   "source": [
    "-------------------------------"
   ]
  },
  {
   "cell_type": "markdown",
   "metadata": {},
   "source": [
    "# Save"
   ]
  },
  {
   "cell_type": "code",
   "execution_count": 18,
   "metadata": {},
   "outputs": [],
   "source": [
    "data.to_csv('data/prepared_google.csv', sep=';', encoding='cp1251', index = False)"
   ]
  }
 ],
 "metadata": {
  "kernelspec": {
   "display_name": "Python 3",
   "language": "python",
   "name": "python3"
  },
  "language_info": {
   "codemirror_mode": {
    "name": "ipython",
    "version": 3
   },
   "file_extension": ".py",
   "mimetype": "text/x-python",
   "name": "python",
   "nbconvert_exporter": "python",
   "pygments_lexer": "ipython3",
   "version": "3.6.2"
  }
 },
 "nbformat": 4,
 "nbformat_minor": 2
}
